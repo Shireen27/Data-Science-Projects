{
 "cells": [
  {
   "cell_type": "markdown",
   "id": "b1d681d8-df83-47e4-b098-1a406defa1d5",
   "metadata": {},
   "source": [
    "Black - Scholes European Option Pricer -- With analytical formula and Monte Carlo simulation."
   ]
  },
  {
   "cell_type": "code",
   "execution_count": 1,
   "id": "7ff3651d-2f8d-4194-b31a-5fe75acf170b",
   "metadata": {},
   "outputs": [],
   "source": [
    "import pandas as pd\n",
    "import numpy as np\n",
    "import matplotlib.pyplot as plt"
   ]
  },
  {
   "cell_type": "code",
   "execution_count": 2,
   "id": "301fa1a3-f4b7-4379-8608-8fdf7460d6ae",
   "metadata": {},
   "outputs": [],
   "source": [
    "from scipy.stats import norm"
   ]
  },
  {
   "cell_type": "code",
   "execution_count": 3,
   "id": "66f5007a-1c62-4d69-889f-db1150ab2481",
   "metadata": {},
   "outputs": [],
   "source": [
    "from scipy.optimize import brentq   # root finidng algorithm"
   ]
  },
  {
   "cell_type": "code",
   "execution_count": 5,
   "id": "23d17354-6acb-4182-b6e9-57688e2fd696",
   "metadata": {},
   "outputs": [],
   "source": [
    "def bs_prices(S, K, r, q, sigma, T, option_type='call'):\n",
    "    if T<= 0 or sigma <= 0:   # if time to maturity is zero, the option value must just equal its intrinsic value:\n",
    "        if option_type== 'call':\n",
    "            return max(0,0, S*np.exp(-q*T) - K*np.exp(-r*T))   # max (S e^{-qT} -K e^{-r T}, 0)\n",
    "        else:\n",
    "            return max(0.0, K*np.exp(-r*T) - S*np.exp(-q*T))  # max( 0 , K e^{-r T} - S e^{-q T} )\n",
    "    d1 = (np.log(S/K) + (r - q + 0.5*sigma**2)*T)/(sigma*np.sqrt(T))  # q is dividend yield: (S/K + (r - q + sigma^2/2)T)/(sigma sqrt[T])\n",
    "    d2 = d1 - sigma*np.sqrt(T)\n",
    "    if option_type == 'call':\n",
    "        return S*np.exp(-q*T)*norm.cdf(d1) - K*np.exp(-r*T)*norm.cdf(d2)\n",
    "    else:\n",
    "        return K*np.exp(-r*T)*norm.cdf(-d2) - S*np.exp(-q*T)*norm.cdf(-d1)\n",
    "    \n",
    "    "
   ]
  },
  {
   "cell_type": "code",
   "execution_count": 6,
   "id": "2c707307-91d0-4514-927f-21ce9f750d18",
   "metadata": {},
   "outputs": [],
   "source": [
    "def mc_prices(S, K, r, q, sigma, T,option_type='call', n_paths=10000,antithetic = False, moment_matching=False, seed=123):\n",
    "    rng = np.random.default_rng(seed)\n",
    "    n= n_paths\n",
    "    if antithetic:\n",
    "        m = (n+1)//2\n",
    "        Z = rng.standard_normal(m)\n",
    "        Z = np.concatenate([Z, -Z[:n-m]])\n",
    "    else:\n",
    "        Z= rng.standard_normal(n)\n",
    "\n",
    "    if moment_matching:\n",
    "        meanZ = Z.mean()\n",
    "        stdZ = Z.std(ddof =0)\n",
    "        if stdZ == 0:\n",
    "            raise ValueError(\"degenerate normal draws\")\n",
    "        Z = (Z - meanZ)/stdZ\n",
    "    \n",
    "    drift = (r - q - 0.5*sigma**2)*T\n",
    "    diffusion = sigma*np.sqrt(T)*Z\n",
    "    S_T = S*np.exp(drift + diffusion)\n",
    "\n",
    "    if option_type=='call':\n",
    "        payoffs = np.maximum(S_T - K, 0.0)\n",
    "    else:\n",
    "        payoffs = np.maximum( K - S_T, 0.0)\n",
    "    discounted = np.exp(-r*T)*payoffs\n",
    "    price = discounted.mean()\n",
    "    stderr = discounted.std(ddof = 1)/np.sqrt(n)\n",
    "    return price, stderr\n",
    "\n",
    "# discounted.std(ddof=1) → this is σ/Sqrt(n), the sample standard deviation.\n",
    "#ddof=1 means divide by (n-1) instead of n, i.e. the unbiased estimator of variance.\n",
    "# Divide by Sqrt[n]-> gives SE of sample. \n",
    "\n"
   ]
  },
  {
   "cell_type": "code",
   "execution_count": 13,
   "id": "4ec527b1-3018-4ca6-b306-b9c110a9de22",
   "metadata": {},
   "outputs": [],
   "source": [
    "def implied_vol(market_price, S,K,r,q,T,option_type='call', sigma_bounds=(1e-6,5.0), tol=1e-8):\n",
    "    def f(sigma):\n",
    "        return bs_prices(S, K, r, q, T, sigma, option_type)- market_price\n",
    "    low, high = sigma_bounds\n",
    "    if f(low)* f(high) > 0:\n",
    "        raise ValueError(\"Implied Volatilitiy not braketed. Try larger bounds or check ip price\")\n",
    "    vol = brentq(f,low,high,xtol=tol,rtol=tol, maxiter=1000)\n",
    "    return vol\n",
    "# Implied volatility = the volatility input to the Black–Scholes formula that reproduces the observed market option price.\n",
    "# compute the diff and if f(sigma) = 0, then sigma is the implied volatility.\n",
    "# Start with a lower bound (1e-6) and upper bound (5.0) for σ. This brackets the root: we assume the implied vol lies somewhere in this range.\n",
    "# Root-finding methods like Brent’s method require the function to have opposite signs at the endpoints (f(low) and f(high)), \n",
    "#otherwise there’s no guarantee a solution exists inside."
   ]
  },
  {
   "cell_type": "code",
   "execution_count": 14,
   "id": "afe09bce-5d52-4aad-bd3f-dee3059da60b",
   "metadata": {},
   "outputs": [
    {
     "name": "stdout",
     "output_type": "stream",
     "text": [
      "Analytical call: 6.888728577680624\n",
      "Analytical put: 4.41971978051388\n",
      "MC plain call price, stderr: (6.8721379862800935, 0.0218833226061422)\n",
      "MC anti call price, stderr: (6.88279878627146, 0.02188937923968412)\n",
      "MC both call price, stderr: (6.884056049434203, 0.02189383580083499)\n",
      "implied vol (should equal sigma): 0.11064737197975866\n"
     ]
    }
   ],
   "source": [
    "if __name__ == '__main__':\n",
    "    S= 100.0\n",
    "    K = 100.0\n",
    "    r = 0.05\n",
    "    q = 0.0\n",
    "    sigma = 0.2\n",
    "    T = 0.5\n",
    "\n",
    "    call_analytical = bs_prices(S, K,r, q, sigma, T, 'call')\n",
    "    put_analytical = bs_prices(S, K, r,q,sigma, T, 'put')\n",
    "    print(\"Analytical call:\" , call_analytical)\n",
    "    print(\"Analytical put:\", put_analytical)\n",
    "\n",
    "    #mc_prices(S, K, r, q, sigma, option_type='call', n_paths=10000,antithetic = False, moment_matching=False, seed=123):\n",
    "    mc_plain = mc_prices(S,K, r,q,sigma,T,'call', n_paths=200000, antithetic= False, moment_matching= False)\n",
    "    print(\"MC plain call price, stderr:\", mc_plain)\n",
    "\n",
    "    mc_anti = mc_prices(S,K, r,q,sigma, T,'call', n_paths=200000, antithetic= True, moment_matching= False)\n",
    "    print(\"MC anti call price, stderr:\", mc_anti)\n",
    "\n",
    "    mc_both = mc_prices(S,K, r,q,sigma,T,'call', n_paths=200000, antithetic= True, moment_matching= True)\n",
    "    print(\"MC both call price, stderr:\", mc_both)\n",
    "\n",
    "    market_price = call_analytical\n",
    "    implied = implied_vol(market_price, S, K, r, q, T,'call')\n",
    "    print(\"implied vol (should equal sigma):\", implied)\n",
    "\n",
    "    "
   ]
  },
  {
   "cell_type": "code",
   "execution_count": null,
   "id": "f825df27-f0bd-4802-a89d-9c7c6cfda53f",
   "metadata": {},
   "outputs": [],
   "source": []
  }
 ],
 "metadata": {
  "kernelspec": {
   "display_name": "Python 3 (ipykernel)",
   "language": "python",
   "name": "python3"
  },
  "language_info": {
   "codemirror_mode": {
    "name": "ipython",
    "version": 3
   },
   "file_extension": ".py",
   "mimetype": "text/x-python",
   "name": "python",
   "nbconvert_exporter": "python",
   "pygments_lexer": "ipython3",
   "version": "3.11.4"
  }
 },
 "nbformat": 4,
 "nbformat_minor": 5
}
