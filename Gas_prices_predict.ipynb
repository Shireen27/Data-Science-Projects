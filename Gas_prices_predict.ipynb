{
 "cells": [
  {
   "cell_type": "code",
   "execution_count": 3,
   "id": "f84c22f1-18a9-4e84-9867-800e79596915",
   "metadata": {},
   "outputs": [],
   "source": [
    "import pandas as pd\n",
    "import numpy as np\n",
    "import matplotlib.pyplot as plt\n",
    "from statsmodels.tsa.statespace.sarimax import SARIMAX\n",
    "from datetime import date"
   ]
  },
  {
   "cell_type": "code",
   "execution_count": 2,
   "id": "3c0e79c4-5d8d-4892-ad2d-25aba2489c6b",
   "metadata": {},
   "outputs": [
    {
     "name": "stdout",
     "output_type": "stream",
     "text": [
      "Collecting statsmodels\n",
      "  Downloading statsmodels-0.14.4-cp311-cp311-win_amd64.whl (9.9 MB)\n",
      "                                              0.0/9.9 MB ? eta -:--:--\n",
      "                                              0.1/9.9 MB 3.6 MB/s eta 0:00:03\n",
      "     -                                        0.3/9.9 MB 4.1 MB/s eta 0:00:03\n",
      "     -                                        0.5/9.9 MB 3.5 MB/s eta 0:00:03\n",
      "     --                                       0.6/9.9 MB 3.6 MB/s eta 0:00:03\n",
      "     --                                       0.7/9.9 MB 3.3 MB/s eta 0:00:03\n",
      "     ---                                      0.9/9.9 MB 3.3 MB/s eta 0:00:03\n",
      "     ----                                     1.1/9.9 MB 3.5 MB/s eta 0:00:03\n",
      "     -----                                    1.3/9.9 MB 3.5 MB/s eta 0:00:03\n",
      "     -----                                    1.4/9.9 MB 3.5 MB/s eta 0:00:03\n",
      "     ------                                   1.5/9.9 MB 3.4 MB/s eta 0:00:03\n",
      "     -------                                  1.7/9.9 MB 3.4 MB/s eta 0:00:03\n",
      "     -------                                  1.9/9.9 MB 3.5 MB/s eta 0:00:03\n",
      "     --------                                 2.1/9.9 MB 3.5 MB/s eta 0:00:03\n",
      "     ---------                                2.3/9.9 MB 3.5 MB/s eta 0:00:03\n",
      "     ----------                               2.5/9.9 MB 3.6 MB/s eta 0:00:03\n",
      "     ----------                               2.7/9.9 MB 3.6 MB/s eta 0:00:03\n",
      "     -----------                              2.9/9.9 MB 3.7 MB/s eta 0:00:02\n",
      "     ------------                             3.1/9.9 MB 3.7 MB/s eta 0:00:02\n",
      "     -------------                            3.3/9.9 MB 3.8 MB/s eta 0:00:02\n",
      "     --------------                           3.5/9.9 MB 3.8 MB/s eta 0:00:02\n",
      "     ---------------                          3.7/9.9 MB 3.9 MB/s eta 0:00:02\n",
      "     ----------------                         4.0/9.9 MB 4.0 MB/s eta 0:00:02\n",
      "     -----------------                        4.2/9.9 MB 3.9 MB/s eta 0:00:02\n",
      "     -----------------                        4.4/9.9 MB 4.0 MB/s eta 0:00:02\n",
      "     ------------------                       4.7/9.9 MB 4.0 MB/s eta 0:00:02\n",
      "     -------------------                      4.9/9.9 MB 4.1 MB/s eta 0:00:02\n",
      "     --------------------                     5.1/9.9 MB 4.1 MB/s eta 0:00:02\n",
      "     ---------------------                    5.4/9.9 MB 4.1 MB/s eta 0:00:02\n",
      "     ----------------------                   5.5/9.9 MB 4.1 MB/s eta 0:00:02\n",
      "     ----------------------                   5.6/9.9 MB 4.0 MB/s eta 0:00:02\n",
      "     -----------------------                  5.8/9.9 MB 4.1 MB/s eta 0:00:01\n",
      "     ------------------------                 6.1/9.9 MB 4.1 MB/s eta 0:00:01\n",
      "     -------------------------                6.3/9.9 MB 4.1 MB/s eta 0:00:01\n",
      "     --------------------------               6.5/9.9 MB 4.1 MB/s eta 0:00:01\n",
      "     ---------------------------              6.7/9.9 MB 4.1 MB/s eta 0:00:01\n",
      "     ---------------------------              6.9/9.9 MB 4.2 MB/s eta 0:00:01\n",
      "     ----------------------------             7.1/9.9 MB 4.2 MB/s eta 0:00:01\n",
      "     -----------------------------            7.3/9.9 MB 4.1 MB/s eta 0:00:01\n",
      "     ------------------------------           7.5/9.9 MB 4.2 MB/s eta 0:00:01\n",
      "     -------------------------------          7.7/9.9 MB 4.2 MB/s eta 0:00:01\n",
      "     --------------------------------         7.9/9.9 MB 4.2 MB/s eta 0:00:01\n",
      "     ---------------------------------        8.2/9.9 MB 4.2 MB/s eta 0:00:01\n",
      "     ----------------------------------       8.4/9.9 MB 4.2 MB/s eta 0:00:01\n",
      "     -----------------------------------      8.6/9.9 MB 4.3 MB/s eta 0:00:01\n",
      "     ------------------------------------     8.9/9.9 MB 4.3 MB/s eta 0:00:01\n",
      "     ------------------------------------     9.1/9.9 MB 4.3 MB/s eta 0:00:01\n",
      "     -------------------------------------    9.3/9.9 MB 4.3 MB/s eta 0:00:01\n",
      "     --------------------------------------   9.5/9.9 MB 4.3 MB/s eta 0:00:01\n",
      "     ---------------------------------------  9.7/9.9 MB 4.3 MB/s eta 0:00:01\n",
      "     ---------------------------------------  9.9/9.9 MB 4.3 MB/s eta 0:00:01\n",
      "     ---------------------------------------  9.9/9.9 MB 4.3 MB/s eta 0:00:01\n",
      "     ---------------------------------------  9.9/9.9 MB 4.3 MB/s eta 0:00:01\n",
      "     ---------------------------------------  9.9/9.9 MB 4.3 MB/s eta 0:00:01\n",
      "     ---------------------------------------  9.9/9.9 MB 4.3 MB/s eta 0:00:01\n",
      "     ---------------------------------------  9.9/9.9 MB 4.3 MB/s eta 0:00:01\n",
      "     ---------------------------------------  9.9/9.9 MB 4.3 MB/s eta 0:00:01\n",
      "     ---------------------------------------  9.9/9.9 MB 4.3 MB/s eta 0:00:01\n",
      "     ---------------------------------------  9.9/9.9 MB 4.3 MB/s eta 0:00:01\n",
      "     ---------------------------------------  9.9/9.9 MB 4.3 MB/s eta 0:00:01\n",
      "     ---------------------------------------  9.9/9.9 MB 4.3 MB/s eta 0:00:01\n",
      "     ---------------------------------------  9.9/9.9 MB 4.3 MB/s eta 0:00:01\n",
      "     ---------------------------------------  9.9/9.9 MB 4.3 MB/s eta 0:00:01\n",
      "     ---------------------------------------  9.9/9.9 MB 4.3 MB/s eta 0:00:01\n",
      "     ---------------------------------------  9.9/9.9 MB 4.3 MB/s eta 0:00:01\n",
      "     ---------------------------------------  9.9/9.9 MB 4.3 MB/s eta 0:00:01\n",
      "     ---------------------------------------  9.9/9.9 MB 4.3 MB/s eta 0:00:01\n",
      "     ---------------------------------------  9.9/9.9 MB 4.3 MB/s eta 0:00:01\n",
      "     ---------------------------------------  9.9/9.9 MB 4.3 MB/s eta 0:00:01\n",
      "     ---------------------------------------  9.9/9.9 MB 4.3 MB/s eta 0:00:01\n",
      "     ---------------------------------------  9.9/9.9 MB 4.3 MB/s eta 0:00:01\n",
      "     ---------------------------------------  9.9/9.9 MB 4.3 MB/s eta 0:00:01\n",
      "     ---------------------------------------  9.9/9.9 MB 4.3 MB/s eta 0:00:01\n",
      "     ---------------------------------------  9.9/9.9 MB 4.3 MB/s eta 0:00:01\n",
      "     ---------------------------------------  9.9/9.9 MB 4.3 MB/s eta 0:00:01\n",
      "     ---------------------------------------  9.9/9.9 MB 4.3 MB/s eta 0:00:01\n",
      "     ---------------------------------------  9.9/9.9 MB 4.3 MB/s eta 0:00:01\n",
      "     ---------------------------------------  9.9/9.9 MB 4.3 MB/s eta 0:00:01\n",
      "     ---------------------------------------  9.9/9.9 MB 4.3 MB/s eta 0:00:01\n",
      "     ---------------------------------------  9.9/9.9 MB 4.3 MB/s eta 0:00:01\n",
      "     ---------------------------------------  9.9/9.9 MB 4.3 MB/s eta 0:00:01\n",
      "     ---------------------------------------  9.9/9.9 MB 4.3 MB/s eta 0:00:01\n",
      "     ---------------------------------------  9.9/9.9 MB 4.3 MB/s eta 0:00:01\n",
      "     ---------------------------------------  9.9/9.9 MB 4.3 MB/s eta 0:00:01\n",
      "     ---------------------------------------  9.9/9.9 MB 4.3 MB/s eta 0:00:01\n",
      "     ---------------------------------------  9.9/9.9 MB 4.3 MB/s eta 0:00:01\n",
      "     ---------------------------------------  9.9/9.9 MB 4.3 MB/s eta 0:00:01\n",
      "     ---------------------------------------  9.9/9.9 MB 4.3 MB/s eta 0:00:01\n",
      "     ---------------------------------------  9.9/9.9 MB 4.3 MB/s eta 0:00:01\n",
      "     ---------------------------------------  9.9/9.9 MB 4.3 MB/s eta 0:00:01\n",
      "     ---------------------------------------  9.9/9.9 MB 4.3 MB/s eta 0:00:01\n",
      "     ---------------------------------------  9.9/9.9 MB 4.3 MB/s eta 0:00:01\n",
      "     ---------------------------------------  9.9/9.9 MB 4.3 MB/s eta 0:00:01\n",
      "     ---------------------------------------  9.9/9.9 MB 4.3 MB/s eta 0:00:01\n",
      "     ---------------------------------------  9.9/9.9 MB 4.3 MB/s eta 0:00:01\n",
      "     ---------------------------------------  9.9/9.9 MB 4.3 MB/s eta 0:00:01\n",
      "     ---------------------------------------  9.9/9.9 MB 4.3 MB/s eta 0:00:01\n",
      "     ---------------------------------------  9.9/9.9 MB 4.3 MB/s eta 0:00:01\n",
      "     ---------------------------------------  9.9/9.9 MB 4.3 MB/s eta 0:00:01\n",
      "     ---------------------------------------  9.9/9.9 MB 4.3 MB/s eta 0:00:01\n",
      "     ---------------------------------------  9.9/9.9 MB 4.3 MB/s eta 0:00:01\n",
      "     ---------------------------------------  9.9/9.9 MB 4.3 MB/s eta 0:00:01\n",
      "     ---------------------------------------  9.9/9.9 MB 4.3 MB/s eta 0:00:01\n",
      "     ---------------------------------------  9.9/9.9 MB 4.3 MB/s eta 0:00:01\n",
      "     ---------------------------------------  9.9/9.9 MB 4.3 MB/s eta 0:00:01\n",
      "     ---------------------------------------  9.9/9.9 MB 4.3 MB/s eta 0:00:01\n",
      "     ---------------------------------------  9.9/9.9 MB 4.3 MB/s eta 0:00:01\n",
      "     ---------------------------------------  9.9/9.9 MB 4.3 MB/s eta 0:00:01\n",
      "     ---------------------------------------  9.9/9.9 MB 4.3 MB/s eta 0:00:01\n",
      "     ---------------------------------------  9.9/9.9 MB 4.3 MB/s eta 0:00:01\n",
      "     ---------------------------------------  9.9/9.9 MB 4.3 MB/s eta 0:00:01\n",
      "     ---------------------------------------  9.9/9.9 MB 4.3 MB/s eta 0:00:01\n",
      "     ---------------------------------------  9.9/9.9 MB 4.3 MB/s eta 0:00:01\n",
      "     ---------------------------------------  9.9/9.9 MB 4.3 MB/s eta 0:00:01\n",
      "     ---------------------------------------  9.9/9.9 MB 4.3 MB/s eta 0:00:01\n",
      "     ---------------------------------------  9.9/9.9 MB 4.3 MB/s eta 0:00:01\n",
      "     ---------------------------------------  9.9/9.9 MB 4.3 MB/s eta 0:00:01\n",
      "     ---------------------------------------  9.9/9.9 MB 4.3 MB/s eta 0:00:01\n",
      "     ---------------------------------------  9.9/9.9 MB 4.3 MB/s eta 0:00:01\n",
      "     ---------------------------------------  9.9/9.9 MB 4.3 MB/s eta 0:00:01\n",
      "     ---------------------------------------  9.9/9.9 MB 4.3 MB/s eta 0:00:01\n",
      "     ---------------------------------------  9.9/9.9 MB 4.3 MB/s eta 0:00:01\n",
      "     ---------------------------------------  9.9/9.9 MB 4.3 MB/s eta 0:00:01\n",
      "     ---------------------------------------  9.9/9.9 MB 4.3 MB/s eta 0:00:01\n",
      "     ---------------------------------------  9.9/9.9 MB 4.3 MB/s eta 0:00:01\n",
      "     ---------------------------------------  9.9/9.9 MB 4.3 MB/s eta 0:00:01\n",
      "     ---------------------------------------  9.9/9.9 MB 4.3 MB/s eta 0:00:01\n",
      "     ---------------------------------------  9.9/9.9 MB 4.3 MB/s eta 0:00:01\n",
      "     ---------------------------------------  9.9/9.9 MB 4.3 MB/s eta 0:00:01\n",
      "     ---------------------------------------  9.9/9.9 MB 4.3 MB/s eta 0:00:01\n",
      "     ---------------------------------------- 9.9/9.9 MB 1.6 MB/s eta 0:00:00\n",
      "Requirement already satisfied: numpy<3,>=1.22.3 in c:\\users\\welcome\\appdata\\local\\programs\\python\\python311\\lib\\site-packages (from statsmodels) (1.25.0)\n",
      "Requirement already satisfied: scipy!=1.9.2,>=1.8 in c:\\users\\welcome\\appdata\\local\\programs\\python\\python311\\lib\\site-packages (from statsmodels) (1.11.1)\n",
      "Requirement already satisfied: pandas!=2.1.0,>=1.4 in c:\\users\\welcome\\appdata\\local\\programs\\python\\python311\\lib\\site-packages (from statsmodels) (2.0.3)\n",
      "Collecting patsy>=0.5.6 (from statsmodels)\n",
      "  Downloading patsy-1.0.1-py2.py3-none-any.whl (232 kB)\n",
      "                                              0.0/232.9 kB ? eta -:--:--\n",
      "     ---------------                         92.2/232.9 kB 2.6 MB/s eta 0:00:01\n",
      "     ---------------                         92.2/232.9 kB 2.6 MB/s eta 0:00:01\n",
      "     ---------------                         92.2/232.9 kB 2.6 MB/s eta 0:00:01\n",
      "     ---------------                         92.2/232.9 kB 2.6 MB/s eta 0:00:01\n",
      "     ---------------                         92.2/232.9 kB 2.6 MB/s eta 0:00:01\n",
      "     ---------------                         92.2/232.9 kB 2.6 MB/s eta 0:00:01\n",
      "     ---------------                         92.2/232.9 kB 2.6 MB/s eta 0:00:01\n",
      "     ---------------                         92.2/232.9 kB 2.6 MB/s eta 0:00:01\n",
      "     ---------------                         92.2/232.9 kB 2.6 MB/s eta 0:00:01\n",
      "     ---------------                         92.2/232.9 kB 2.6 MB/s eta 0:00:01\n",
      "     ---------------                         92.2/232.9 kB 2.6 MB/s eta 0:00:01\n",
      "     ---------------                         92.2/232.9 kB 2.6 MB/s eta 0:00:01\n",
      "     ---------------                         92.2/232.9 kB 2.6 MB/s eta 0:00:01\n",
      "     ---------------                         92.2/232.9 kB 2.6 MB/s eta 0:00:01\n",
      "     ---------------                         92.2/232.9 kB 2.6 MB/s eta 0:00:01\n",
      "     ---------------                         92.2/232.9 kB 2.6 MB/s eta 0:00:01\n",
      "     ---------------                         92.2/232.9 kB 2.6 MB/s eta 0:00:01\n",
      "     ---------------                         92.2/232.9 kB 2.6 MB/s eta 0:00:01\n",
      "     ---------------                         92.2/232.9 kB 2.6 MB/s eta 0:00:01\n",
      "     ---------------                         92.2/232.9 kB 2.6 MB/s eta 0:00:01\n",
      "     ---------------                         92.2/232.9 kB 2.6 MB/s eta 0:00:01\n",
      "     ---------------                         92.2/232.9 kB 2.6 MB/s eta 0:00:01\n",
      "     ---------------                         92.2/232.9 kB 2.6 MB/s eta 0:00:01\n",
      "     ---------------                         92.2/232.9 kB 2.6 MB/s eta 0:00:01\n",
      "     ---------------                         92.2/232.9 kB 2.6 MB/s eta 0:00:01\n",
      "     ---------------                         92.2/232.9 kB 2.6 MB/s eta 0:00:01\n",
      "     ---------------                         92.2/232.9 kB 2.6 MB/s eta 0:00:01\n",
      "     ---------------                         92.2/232.9 kB 2.6 MB/s eta 0:00:01\n",
      "     ---------------                         92.2/232.9 kB 2.6 MB/s eta 0:00:01\n",
      "     ---------------                         92.2/232.9 kB 2.6 MB/s eta 0:00:01\n",
      "     ---------------                         92.2/232.9 kB 2.6 MB/s eta 0:00:01\n",
      "     ---------------                         92.2/232.9 kB 2.6 MB/s eta 0:00:01\n",
      "     ---------------                         92.2/232.9 kB 2.6 MB/s eta 0:00:01\n",
      "     ---------------                         92.2/232.9 kB 2.6 MB/s eta 0:00:01\n",
      "     ---------------                         92.2/232.9 kB 2.6 MB/s eta 0:00:01\n",
      "     ---------------                         92.2/232.9 kB 2.6 MB/s eta 0:00:01\n",
      "     ---------------                         92.2/232.9 kB 2.6 MB/s eta 0:00:01\n",
      "     ---------------                         92.2/232.9 kB 2.6 MB/s eta 0:00:01\n",
      "     ---------------                         92.2/232.9 kB 2.6 MB/s eta 0:00:01\n",
      "     ---------------                         92.2/232.9 kB 2.6 MB/s eta 0:00:01\n",
      "     ---------------                         92.2/232.9 kB 2.6 MB/s eta 0:00:01\n",
      "     ---------------                         92.2/232.9 kB 2.6 MB/s eta 0:00:01\n",
      "     ---------------                         92.2/232.9 kB 2.6 MB/s eta 0:00:01\n",
      "     ---------------                         92.2/232.9 kB 2.6 MB/s eta 0:00:01\n",
      "     ---------------                         92.2/232.9 kB 2.6 MB/s eta 0:00:01\n",
      "     ---------------                         92.2/232.9 kB 2.6 MB/s eta 0:00:01\n",
      "     ---------------                         92.2/232.9 kB 2.6 MB/s eta 0:00:01\n",
      "     ---------------                         92.2/232.9 kB 2.6 MB/s eta 0:00:01\n",
      "     ---------------                         92.2/232.9 kB 2.6 MB/s eta 0:00:01\n",
      "     ---------------                         92.2/232.9 kB 2.6 MB/s eta 0:00:01\n",
      "     ---------------                         92.2/232.9 kB 2.6 MB/s eta 0:00:01\n",
      "     ---------------                         92.2/232.9 kB 2.6 MB/s eta 0:00:01\n",
      "     ---------------                         92.2/232.9 kB 2.6 MB/s eta 0:00:01\n",
      "     ---------------                         92.2/232.9 kB 2.6 MB/s eta 0:00:01\n",
      "     ---------------                         92.2/232.9 kB 2.6 MB/s eta 0:00:01\n",
      "     ---------------                         92.2/232.9 kB 2.6 MB/s eta 0:00:01\n",
      "     ---------------                         92.2/232.9 kB 2.6 MB/s eta 0:00:01\n",
      "     ---------------                         92.2/232.9 kB 2.6 MB/s eta 0:00:01\n",
      "     ---------------                         92.2/232.9 kB 2.6 MB/s eta 0:00:01\n",
      "     ---------------                         92.2/232.9 kB 2.6 MB/s eta 0:00:01\n",
      "     ---------------                         92.2/232.9 kB 2.6 MB/s eta 0:00:01\n",
      "     ---------------                         92.2/232.9 kB 2.6 MB/s eta 0:00:01\n",
      "     ---------------                         92.2/232.9 kB 2.6 MB/s eta 0:00:01\n",
      "     ---------------                         92.2/232.9 kB 2.6 MB/s eta 0:00:01\n",
      "     ---------------                         92.2/232.9 kB 2.6 MB/s eta 0:00:01\n",
      "     -----------------------------------   225.3/232.9 kB 69.5 kB/s eta 0:00:01\n",
      "     -----------------------------------   225.3/232.9 kB 69.5 kB/s eta 0:00:01\n",
      "     -----------------------------------   225.3/232.9 kB 69.5 kB/s eta 0:00:01\n",
      "     -----------------------------------   225.3/232.9 kB 69.5 kB/s eta 0:00:01\n",
      "     -----------------------------------   225.3/232.9 kB 69.5 kB/s eta 0:00:01\n",
      "     -----------------------------------   225.3/232.9 kB 69.5 kB/s eta 0:00:01\n",
      "     -----------------------------------   225.3/232.9 kB 69.5 kB/s eta 0:00:01\n",
      "     -----------------------------------   225.3/232.9 kB 69.5 kB/s eta 0:00:01\n",
      "     -----------------------------------   225.3/232.9 kB 69.5 kB/s eta 0:00:01\n",
      "     -----------------------------------   225.3/232.9 kB 69.5 kB/s eta 0:00:01\n",
      "     -----------------------------------   225.3/232.9 kB 69.5 kB/s eta 0:00:01\n",
      "     -----------------------------------   225.3/232.9 kB 69.5 kB/s eta 0:00:01\n",
      "     -----------------------------------   225.3/232.9 kB 69.5 kB/s eta 0:00:01\n",
      "     -----------------------------------   225.3/232.9 kB 69.5 kB/s eta 0:00:01\n",
      "     -----------------------------------   225.3/232.9 kB 69.5 kB/s eta 0:00:01\n",
      "     -----------------------------------   225.3/232.9 kB 69.5 kB/s eta 0:00:01\n",
      "     -----------------------------------   225.3/232.9 kB 69.5 kB/s eta 0:00:01\n",
      "     -----------------------------------   225.3/232.9 kB 69.5 kB/s eta 0:00:01\n",
      "     -----------------------------------   225.3/232.9 kB 69.5 kB/s eta 0:00:01\n",
      "     -----------------------------------   225.3/232.9 kB 69.5 kB/s eta 0:00:01\n",
      "     -----------------------------------   225.3/232.9 kB 69.5 kB/s eta 0:00:01\n",
      "     -----------------------------------   225.3/232.9 kB 69.5 kB/s eta 0:00:01\n",
      "     -----------------------------------   225.3/232.9 kB 69.5 kB/s eta 0:00:01\n",
      "     -----------------------------------   225.3/232.9 kB 69.5 kB/s eta 0:00:01\n",
      "     -----------------------------------   225.3/232.9 kB 69.5 kB/s eta 0:00:01\n",
      "     -----------------------------------   225.3/232.9 kB 69.5 kB/s eta 0:00:01\n",
      "     -----------------------------------   225.3/232.9 kB 69.5 kB/s eta 0:00:01\n",
      "     -----------------------------------   225.3/232.9 kB 69.5 kB/s eta 0:00:01\n",
      "     -----------------------------------   225.3/232.9 kB 69.5 kB/s eta 0:00:01\n",
      "     -----------------------------------   225.3/232.9 kB 69.5 kB/s eta 0:00:01\n",
      "     -----------------------------------   225.3/232.9 kB 69.5 kB/s eta 0:00:01\n",
      "     -----------------------------------   225.3/232.9 kB 69.5 kB/s eta 0:00:01\n",
      "     -----------------------------------   225.3/232.9 kB 69.5 kB/s eta 0:00:01\n",
      "     -----------------------------------   225.3/232.9 kB 69.5 kB/s eta 0:00:01\n",
      "     ------------------------------------- 232.9/232.9 kB 47.5 kB/s eta 0:00:00\n",
      "Requirement already satisfied: packaging>=21.3 in c:\\users\\welcome\\appdata\\local\\programs\\python\\python311\\lib\\site-packages (from statsmodels) (23.1)\n",
      "Requirement already satisfied: python-dateutil>=2.8.2 in c:\\users\\welcome\\appdata\\local\\programs\\python\\python311\\lib\\site-packages (from pandas!=2.1.0,>=1.4->statsmodels) (2.8.2)\n",
      "Requirement already satisfied: pytz>=2020.1 in c:\\users\\welcome\\appdata\\local\\programs\\python\\python311\\lib\\site-packages (from pandas!=2.1.0,>=1.4->statsmodels) (2023.3)\n",
      "Requirement already satisfied: tzdata>=2022.1 in c:\\users\\welcome\\appdata\\local\\programs\\python\\python311\\lib\\site-packages (from pandas!=2.1.0,>=1.4->statsmodels) (2023.3)\n",
      "Requirement already satisfied: six>=1.5 in c:\\users\\welcome\\appdata\\local\\programs\\python\\python311\\lib\\site-packages (from python-dateutil>=2.8.2->pandas!=2.1.0,>=1.4->statsmodels) (1.16.0)\n",
      "Installing collected packages: patsy, statsmodels\n",
      "Successfully installed patsy-1.0.1 statsmodels-0.14.4\n"
     ]
    },
    {
     "name": "stderr",
     "output_type": "stream",
     "text": [
      "\n",
      "[notice] A new release of pip is available: 23.1.2 -> 25.1.1\n",
      "[notice] To update, run: python.exe -m pip install --upgrade pip\n"
     ]
    }
   ],
   "source": [
    "!pip install statsmodels"
   ]
  },
  {
   "cell_type": "code",
   "execution_count": 8,
   "id": "482ace2c-e04f-4b7f-8d14-dafcfe160fec",
   "metadata": {},
   "outputs": [
    {
     "name": "stderr",
     "output_type": "stream",
     "text": [
      "C:\\Users\\Welcome\\AppData\\Local\\Temp\\ipykernel_112\\1035403533.py:2: UserWarning: Could not infer format, so each element will be parsed individually, falling back to `dateutil`. To ensure parsing is consistent and as-expected, please specify a format.\n",
      "  df['Dates'] = pd.to_datetime(df['Dates'])\n"
     ]
    }
   ],
   "source": [
    "df = pd.read_csv(\"E:\\\\Shirin Gangal\\\\Python\\\\Python_learning\\\\Udemy ML\\\\Nat_Gas.csv\")\n",
    "df['Dates'] = pd.to_datetime(df['Dates'])\n"
   ]
  },
  {
   "cell_type": "code",
   "execution_count": 6,
   "id": "0d0132a9-0528-491e-b10c-42a4dd036ce1",
   "metadata": {},
   "outputs": [
    {
     "data": {
      "text/html": [
       "<div>\n",
       "<style scoped>\n",
       "    .dataframe tbody tr th:only-of-type {\n",
       "        vertical-align: middle;\n",
       "    }\n",
       "\n",
       "    .dataframe tbody tr th {\n",
       "        vertical-align: top;\n",
       "    }\n",
       "\n",
       "    .dataframe thead th {\n",
       "        text-align: right;\n",
       "    }\n",
       "</style>\n",
       "<table border=\"1\" class=\"dataframe\">\n",
       "  <thead>\n",
       "    <tr style=\"text-align: right;\">\n",
       "      <th></th>\n",
       "      <th>Prices</th>\n",
       "    </tr>\n",
       "    <tr>\n",
       "      <th>Dates</th>\n",
       "      <th></th>\n",
       "    </tr>\n",
       "  </thead>\n",
       "  <tbody>\n",
       "    <tr>\n",
       "      <th>2020-10-31</th>\n",
       "      <td>10.1</td>\n",
       "    </tr>\n",
       "    <tr>\n",
       "      <th>2020-11-30</th>\n",
       "      <td>10.3</td>\n",
       "    </tr>\n",
       "    <tr>\n",
       "      <th>2020-12-31</th>\n",
       "      <td>11.0</td>\n",
       "    </tr>\n",
       "    <tr>\n",
       "      <th>2021-01-31</th>\n",
       "      <td>10.9</td>\n",
       "    </tr>\n",
       "    <tr>\n",
       "      <th>2021-02-28</th>\n",
       "      <td>10.9</td>\n",
       "    </tr>\n",
       "  </tbody>\n",
       "</table>\n",
       "</div>"
      ],
      "text/plain": [
       "            Prices\n",
       "Dates             \n",
       "2020-10-31    10.1\n",
       "2020-11-30    10.3\n",
       "2020-12-31    11.0\n",
       "2021-01-31    10.9\n",
       "2021-02-28    10.9"
      ]
     },
     "execution_count": 6,
     "metadata": {},
     "output_type": "execute_result"
    }
   ],
   "source": [
    "df.head()\n"
   ]
  },
  {
   "cell_type": "code",
   "execution_count": 9,
   "id": "8b025eeb-362f-436d-bde5-3f5499ab93c8",
   "metadata": {},
   "outputs": [
    {
     "data": {
      "text/html": [
       "<div>\n",
       "<style scoped>\n",
       "    .dataframe tbody tr th:only-of-type {\n",
       "        vertical-align: middle;\n",
       "    }\n",
       "\n",
       "    .dataframe tbody tr th {\n",
       "        vertical-align: top;\n",
       "    }\n",
       "\n",
       "    .dataframe thead th {\n",
       "        text-align: right;\n",
       "    }\n",
       "</style>\n",
       "<table border=\"1\" class=\"dataframe\">\n",
       "  <thead>\n",
       "    <tr style=\"text-align: right;\">\n",
       "      <th></th>\n",
       "      <th>Prices</th>\n",
       "    </tr>\n",
       "    <tr>\n",
       "      <th>Dates</th>\n",
       "      <th></th>\n",
       "    </tr>\n",
       "  </thead>\n",
       "  <tbody>\n",
       "    <tr>\n",
       "      <th>2020-10-31</th>\n",
       "      <td>10.1</td>\n",
       "    </tr>\n",
       "    <tr>\n",
       "      <th>2020-11-30</th>\n",
       "      <td>10.3</td>\n",
       "    </tr>\n",
       "    <tr>\n",
       "      <th>2020-12-31</th>\n",
       "      <td>11.0</td>\n",
       "    </tr>\n",
       "    <tr>\n",
       "      <th>2021-01-31</th>\n",
       "      <td>10.9</td>\n",
       "    </tr>\n",
       "    <tr>\n",
       "      <th>2021-02-28</th>\n",
       "      <td>10.9</td>\n",
       "    </tr>\n",
       "  </tbody>\n",
       "</table>\n",
       "</div>"
      ],
      "text/plain": [
       "            Prices\n",
       "Dates             \n",
       "2020-10-31    10.1\n",
       "2020-11-30    10.3\n",
       "2020-12-31    11.0\n",
       "2021-01-31    10.9\n",
       "2021-02-28    10.9"
      ]
     },
     "execution_count": 9,
     "metadata": {},
     "output_type": "execute_result"
    }
   ],
   "source": [
    "df.set_index('Dates', inplace=True)\n",
    "df.head()"
   ]
  },
  {
   "cell_type": "code",
   "execution_count": 11,
   "id": "40e1343b-7b80-4957-b567-c4a91c1326b1",
   "metadata": {},
   "outputs": [
    {
     "data": {
      "image/png": "[encoded data removed]",
      "text/plain": [
       "<Figure size 640x480 with 1 Axes>"
      ]
     },
     "metadata": {},
     "output_type": "display_data"
    }
   ],
   "source": [
    "df = df.asfreq('M')  # Daily frequency; use 'M' for monthly if applicable\n",
    "df['Prices'] = df['Prices'].interpolate()  # Fill missing data\n",
    "\n",
    "# Plot to see trend/seasonality\n",
    "df['Prices'].plot(title=\"Natural Gas Prices\")\n",
    "plt.show()"
   ]
  },
  {
   "cell_type": "code",
   "execution_count": 12,
   "id": "2d1bc501-616c-4c7d-9310-9653ecb770e9",
   "metadata": {},
   "outputs": [
    {
     "name": "stderr",
     "output_type": "stream",
     "text": [
      "C:\\Users\\Welcome\\AppData\\Local\\Programs\\Python\\Python311\\Lib\\site-packages\\statsmodels\\tsa\\statespace\\sarimax.py:866: UserWarning: Too few observations to estimate starting parameters for seasonal ARMA. All parameters except for variances will be set to zeros.\n",
      "  warn('Too few observations to estimate starting parameters%s.'\n"
     ]
    },
    {
     "name": "stdout",
     "output_type": "stream",
     "text": [
      "                                     SARIMAX Results                                      \n",
      "==========================================================================================\n",
      "Dep. Variable:                             Prices   No. Observations:                   48\n",
      "Model:             SARIMAX(1, 1, 1)x(1, 1, 1, 12)   Log Likelihood                   1.581\n",
      "Date:                            Wed, 04 Jun 2025   AIC                              6.838\n",
      "Time:                                    11:43:53   BIC                             12.061\n",
      "Sample:                                10-31-2020   HQIC                             7.972\n",
      "                                     - 09-30-2024                                         \n",
      "Covariance Type:                              opg                                         \n",
      "==============================================================================\n",
      "                 coef    std err          z      P>|z|      [0.025      0.975]\n",
      "------------------------------------------------------------------------------\n",
      "ar.L1         -0.4532      0.301     -1.505      0.132      -1.044       0.137\n",
      "ma.L1         -0.5152      0.344     -1.497      0.134      -1.190       0.159\n",
      "ar.S.L12      -0.4245      0.192     -2.215      0.027      -0.800      -0.049\n",
      "ma.S.L12      -0.0290      0.406     -0.072      0.943      -0.824       0.766\n",
      "sigma2         0.0502      0.019      2.595      0.009       0.012       0.088\n",
      "===================================================================================\n",
      "Ljung-Box (L1) (Q):                   0.02   Jarque-Bera (JB):                 0.23\n",
      "Prob(Q):                              0.88   Prob(JB):                         0.89\n",
      "Heteroskedasticity (H):               0.56   Skew:                            -0.16\n",
      "Prob(H) (two-sided):                  0.47   Kurtosis:                         2.61\n",
      "===================================================================================\n",
      "\n",
      "Warnings:\n",
      "[1] Covariance matrix calculated using the outer product of gradients (complex-step).\n"
     ]
    }
   ],
   "source": [
    "model = SARIMAX(df['Prices'],\n",
    "                order=(1,1,1),          # ARIMA(p,d,q)\n",
    "                seasonal_order=(1,1,1,12),  # SARIMA(P,D,Q,s) for monthly seasonality\n",
    "                enforce_stationarity=False,\n",
    "                enforce_invertibility=False)\n",
    "\n",
    "results = model.fit(disp=False)\n",
    "print(results.summary())"
   ]
  },
  {
   "cell_type": "code",
   "execution_count": 65,
   "id": "0eb374ff-8141-449a-ab6e-672499da8445",
   "metadata": {},
   "outputs": [],
   "source": [
    "future_dates = pd.date_range(start=df.index[-1],end='2027-09-30', periods=365)\n",
    "forecast = results.get_forecast(steps=366)\n"
   ]
  },
  {
   "cell_type": "code",
   "execution_count": 64,
   "id": "bc8b0930-7fae-452b-b885-2cc11647c6da",
   "metadata": {},
   "outputs": [
    {
     "data": {
      "text/plain": [
       "Timestamp('2024-09-30 00:00:00')"
      ]
     },
     "execution_count": 64,
     "metadata": {},
     "output_type": "execute_result"
    }
   ],
   "source": [
    "df.index[-1]"
   ]
  },
  {
   "cell_type": "code",
   "execution_count": 66,
   "id": "53cc8903-3daf-4749-9be7-298d141277a6",
   "metadata": {},
   "outputs": [],
   "source": [
    "forecast_mean = forecast.predicted_mean\n",
    "forecast_ci = forecast.conf_int()"
   ]
  },
  {
   "cell_type": "code",
   "execution_count": 67,
   "id": "392e064d-3b14-4e01-b098-fbd22d779295",
   "metadata": {},
   "outputs": [
    {
     "name": "stdout",
     "output_type": "stream",
     "text": [
      "2024-10-31    12.125719\n",
      "2024-11-30    12.588707\n",
      "2024-12-31    12.934796\n",
      "2025-01-31    13.039955\n",
      "2025-02-28    12.761518\n",
      "                ...    \n",
      "2054-11-30    26.454960\n",
      "2054-12-31    26.876404\n",
      "2055-01-31    26.890766\n",
      "2055-02-28    26.635639\n",
      "2055-03-31    26.929193\n",
      "Freq: M, Name: predicted_mean, Length: 366, dtype: float64\n"
     ]
    }
   ],
   "source": [
    "print(forecast_mean)"
   ]
  },
  {
   "cell_type": "code",
   "execution_count": 60,
   "id": "3c9ae425-589d-4922-b562-71f8caca7c9e",
   "metadata": {},
   "outputs": [
    {
     "data": {
      "image/png": "[encoded data removed]",
      "text/plain": [
       "<Figure size 1000x500 with 1 Axes>"
      ]
     },
     "metadata": {},
     "output_type": "display_data"
    }
   ],
   "source": [
    "plt.figure(figsize=(10,5))\n",
    "df['Prices'].plot(label='Observed')\n",
    "forecast_mean.plot(label='Forecast', color='red')\n",
    "#plt.fill_between(forecast_ci.index,\n",
    "#                 forecast_ci.iloc[:, 0],\n",
    "#                 forecast_ci.iloc[:, 1], color='pink', alpha=0.3)\n",
    "plt.title('Natural Gas Price Forecast (SARIMA)')\n",
    "plt.legend()\n",
    "plt.grid()\n",
    "plt.show()\n"
   ]
  },
  {
   "cell_type": "code",
   "execution_count": 48,
   "id": "e047e46c-404e-472e-ab5b-bf9ff9e4f018",
   "metadata": {},
   "outputs": [],
   "source": [
    "def sarima_predict(target_date):\n",
    "    days_ahead = (target_date - df.index[-1].date()).days\n",
    "    if days_ahead <= 0:\n",
    "        return df.loc[str(target_date)]['Prices']\n",
    "    else:\n",
    "        return forecast_mean.iloc[days_ahead]"
   ]
  },
  {
   "cell_type": "code",
   "execution_count": 49,
   "id": "90a1d93c-ea59-48dd-805e-61c63f5acef2",
   "metadata": {},
   "outputs": [
    {
     "name": "stdout",
     "output_type": "stream",
     "text": [
      "124\n"
     ]
    }
   ],
   "source": [
    "df.index[0].date()\n",
    "days_ahead = (date(2025,2,1)- df.index[-1].date()).days\n",
    "print(days_ahead)"
   ]
  },
  {
   "cell_type": "code",
   "execution_count": 52,
   "id": "d9264dd8-803b-4bfc-874c-f2330762129a",
   "metadata": {},
   "outputs": [
    {
     "name": "stdout",
     "output_type": "stream",
     "text": [
      "Predicted injection price on 2025-02-01: $17.41\n"
     ]
    }
   ],
   "source": [
    "inj_date = date(2025, 2, 1)\n",
    "inj_price = sarima_predict(inj_date)\n",
    "\n",
    "print(f\"Predicted injection price on {inj_date}: ${inj_price:.2f}\")\n"
   ]
  },
  {
   "cell_type": "code",
   "execution_count": null,
   "id": "d9b3b02e-ee21-4861-bbe6-562109b9da4b",
   "metadata": {},
   "outputs": [],
   "source": []
  }
 ],
 "metadata": {
  "kernelspec": {
   "display_name": "Python 3 (ipykernel)",
   "language": "python",
   "name": "python3"
  },
  "language_info": {
   "codemirror_mode": {
    "name": "ipython",
    "version": 3
   },
   "file_extension": ".py",
   "mimetype": "text/x-python",
   "name": "python",
   "nbconvert_exporter": "python",
   "pygments_lexer": "ipython3",
   "version": "3.11.4"
  }
 },
 "nbformat": 4,
 "nbformat_minor": 5
}
