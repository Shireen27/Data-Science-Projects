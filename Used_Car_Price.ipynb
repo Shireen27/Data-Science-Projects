{
 "cells": [
  {
   "cell_type": "code",
   "execution_count": 1,
   "id": "51adbb40-9356-44b4-a1eb-14a40c604473",
   "metadata": {},
   "outputs": [],
   "source": [
    "# Predict used car price \n",
    "import numpy as np\n",
    "import pandas as pd\n",
    "import matplotlib.pyplot as plt\n",
    "import seaborn as sns\n",
    "import warnings\n",
    "warnings.filterwarnings(\"ignore\")\n",
    "%matplotlib inline"
   ]
  },
  {
   "cell_type": "code",
   "execution_count": 38,
   "id": "bedbce49-1271-406d-9a4f-6a782bcc8f2a",
   "metadata": {},
   "outputs": [],
   "source": [
    "df = pd.read_csv('E:\\\\Shirin Gangal\\\\Python\\\\Python_learning\\\\Udemy ML\\\\cardekho_imputated.csv', index_col=[0])"
   ]
  },
  {
   "cell_type": "code",
   "execution_count": 39,
   "id": "9ead3c52-c03a-4409-be90-67a299b5ff11",
   "metadata": {},
   "outputs": [
    {
     "data": {
      "text/html": [
       "<div>\n",
       "<style scoped>\n",
       "    .dataframe tbody tr th:only-of-type {\n",
       "        vertical-align: middle;\n",
       "    }\n",
       "\n",
       "    .dataframe tbody tr th {\n",
       "        vertical-align: top;\n",
       "    }\n",
       "\n",
       "    .dataframe thead th {\n",
       "        text-align: right;\n",
       "    }\n",
       "</style>\n",
       "<table border=\"1\" class=\"dataframe\">\n",
       "  <thead>\n",
       "    <tr style=\"text-align: right;\">\n",
       "      <th></th>\n",
       "      <th>car_name</th>\n",
       "      <th>brand</th>\n",
       "      <th>model</th>\n",
       "      <th>vehicle_age</th>\n",
       "      <th>km_driven</th>\n",
       "      <th>seller_type</th>\n",
       "      <th>fuel_type</th>\n",
       "      <th>transmission_type</th>\n",
       "      <th>mileage</th>\n",
       "      <th>engine</th>\n",
       "      <th>max_power</th>\n",
       "      <th>seats</th>\n",
       "      <th>selling_price</th>\n",
       "    </tr>\n",
       "  </thead>\n",
       "  <tbody>\n",
       "    <tr>\n",
       "      <th>0</th>\n",
       "      <td>Maruti Alto</td>\n",
       "      <td>Maruti</td>\n",
       "      <td>Alto</td>\n",
       "      <td>9</td>\n",
       "      <td>120000</td>\n",
       "      <td>Individual</td>\n",
       "      <td>Petrol</td>\n",
       "      <td>Manual</td>\n",
       "      <td>19.70</td>\n",
       "      <td>796</td>\n",
       "      <td>46.30</td>\n",
       "      <td>5</td>\n",
       "      <td>120000</td>\n",
       "    </tr>\n",
       "    <tr>\n",
       "      <th>1</th>\n",
       "      <td>Hyundai Grand</td>\n",
       "      <td>Hyundai</td>\n",
       "      <td>Grand</td>\n",
       "      <td>5</td>\n",
       "      <td>20000</td>\n",
       "      <td>Individual</td>\n",
       "      <td>Petrol</td>\n",
       "      <td>Manual</td>\n",
       "      <td>18.90</td>\n",
       "      <td>1197</td>\n",
       "      <td>82.00</td>\n",
       "      <td>5</td>\n",
       "      <td>550000</td>\n",
       "    </tr>\n",
       "    <tr>\n",
       "      <th>2</th>\n",
       "      <td>Hyundai i20</td>\n",
       "      <td>Hyundai</td>\n",
       "      <td>i20</td>\n",
       "      <td>11</td>\n",
       "      <td>60000</td>\n",
       "      <td>Individual</td>\n",
       "      <td>Petrol</td>\n",
       "      <td>Manual</td>\n",
       "      <td>17.00</td>\n",
       "      <td>1197</td>\n",
       "      <td>80.00</td>\n",
       "      <td>5</td>\n",
       "      <td>215000</td>\n",
       "    </tr>\n",
       "    <tr>\n",
       "      <th>3</th>\n",
       "      <td>Maruti Alto</td>\n",
       "      <td>Maruti</td>\n",
       "      <td>Alto</td>\n",
       "      <td>9</td>\n",
       "      <td>37000</td>\n",
       "      <td>Individual</td>\n",
       "      <td>Petrol</td>\n",
       "      <td>Manual</td>\n",
       "      <td>20.92</td>\n",
       "      <td>998</td>\n",
       "      <td>67.10</td>\n",
       "      <td>5</td>\n",
       "      <td>226000</td>\n",
       "    </tr>\n",
       "    <tr>\n",
       "      <th>4</th>\n",
       "      <td>Ford Ecosport</td>\n",
       "      <td>Ford</td>\n",
       "      <td>Ecosport</td>\n",
       "      <td>6</td>\n",
       "      <td>30000</td>\n",
       "      <td>Dealer</td>\n",
       "      <td>Diesel</td>\n",
       "      <td>Manual</td>\n",
       "      <td>22.77</td>\n",
       "      <td>1498</td>\n",
       "      <td>98.59</td>\n",
       "      <td>5</td>\n",
       "      <td>570000</td>\n",
       "    </tr>\n",
       "  </tbody>\n",
       "</table>\n",
       "</div>"
      ],
      "text/plain": [
       "        car_name    brand     model  vehicle_age  km_driven seller_type  \\\n",
       "0    Maruti Alto   Maruti      Alto            9     120000  Individual   \n",
       "1  Hyundai Grand  Hyundai     Grand            5      20000  Individual   \n",
       "2    Hyundai i20  Hyundai       i20           11      60000  Individual   \n",
       "3    Maruti Alto   Maruti      Alto            9      37000  Individual   \n",
       "4  Ford Ecosport     Ford  Ecosport            6      30000      Dealer   \n",
       "\n",
       "  fuel_type transmission_type  mileage  engine  max_power  seats  \\\n",
       "0    Petrol            Manual    19.70     796      46.30      5   \n",
       "1    Petrol            Manual    18.90    1197      82.00      5   \n",
       "2    Petrol            Manual    17.00    1197      80.00      5   \n",
       "3    Petrol            Manual    20.92     998      67.10      5   \n",
       "4    Diesel            Manual    22.77    1498      98.59      5   \n",
       "\n",
       "   selling_price  \n",
       "0         120000  \n",
       "1         550000  \n",
       "2         215000  \n",
       "3         226000  \n",
       "4         570000  "
      ]
     },
     "execution_count": 39,
     "metadata": {},
     "output_type": "execute_result"
    }
   ],
   "source": [
    "df.head()"
   ]
  },
  {
   "cell_type": "code",
   "execution_count": 40,
   "id": "e9c219dc-3714-46cd-a333-a584931480d7",
   "metadata": {},
   "outputs": [
    {
     "data": {
      "text/plain": [
       "car_name             0\n",
       "brand                0\n",
       "model                0\n",
       "vehicle_age          0\n",
       "km_driven            0\n",
       "seller_type          0\n",
       "fuel_type            0\n",
       "transmission_type    0\n",
       "mileage              0\n",
       "engine               0\n",
       "max_power            0\n",
       "seats                0\n",
       "selling_price        0\n",
       "dtype: int64"
      ]
     },
     "execution_count": 40,
     "metadata": {},
     "output_type": "execute_result"
    }
   ],
   "source": [
    "df.isnull().sum()"
   ]
  },
  {
   "cell_type": "code",
   "execution_count": 41,
   "id": "91ac49f6-8029-4d5d-bfd9-99ba7872d9ce",
   "metadata": {},
   "outputs": [],
   "source": [
    "df.drop('car_name', axis=1, inplace= True)\n",
    "df.drop('brand',axis=1, inplace= True)\n"
   ]
  },
  {
   "cell_type": "code",
   "execution_count": 42,
   "id": "26a1d6a4-916c-4f27-84be-dbe63ad5824f",
   "metadata": {},
   "outputs": [
    {
     "name": "stdout",
     "output_type": "stream",
     "text": [
      "No. of Numerical features: 7\n",
      "No. of Categorical features: 4\n"
     ]
    }
   ],
   "source": [
    "num_features= [feature for feature in df.columns if df[feature].dtype !='O']\n",
    "print('No. of Numerical features:', len(num_features))\n",
    "char_features= [feature for feature in df.columns if df[feature].dtype =='O']\n",
    "print('No. of Categorical features:', len(char_features))"
   ]
  },
  {
   "cell_type": "code",
   "execution_count": 43,
   "id": "f4d72399-0a7b-41a8-964f-57f9f9e2e433",
   "metadata": {},
   "outputs": [
    {
     "name": "stdout",
     "output_type": "stream",
     "text": [
      "['vehicle_age', 'km_driven', 'mileage', 'engine', 'max_power', 'seats', 'selling_price']\n",
      "['model', 'seller_type', 'fuel_type', 'transmission_type']\n"
     ]
    }
   ],
   "source": [
    "print(num_features)\n",
    "print(char_features)"
   ]
  },
  {
   "cell_type": "code",
   "execution_count": 44,
   "id": "42428cd5-02f2-4f1f-a6a5-51c7ddd9ca9a",
   "metadata": {},
   "outputs": [
    {
     "name": "stdout",
     "output_type": "stream",
     "text": [
      "No. of Discrete features: 2\n",
      "['vehicle_age', 'seats']\n"
     ]
    }
   ],
   "source": [
    "discr_features= [feature for feature in num_features if len(df[feature].unique()) <=25]\n",
    "print('No. of Discrete features:', len(discr_features))\n",
    "print(discr_features)"
   ]
  },
  {
   "cell_type": "code",
   "execution_count": 45,
   "id": "ea6b03af-b711-464b-a255-1b68026e2ed5",
   "metadata": {},
   "outputs": [
    {
     "data": {
      "text/plain": [
       "array([ 9,  5, 11,  6,  8,  3,  2,  4,  7, 10, 14, 12,  1, 15, 13, 16, 17,\n",
       "       18, 29, 19,  0, 21, 22, 25], dtype=int64)"
      ]
     },
     "execution_count": 45,
     "metadata": {},
     "output_type": "execute_result"
    }
   ],
   "source": [
    "df['vehicle_age'].unique()"
   ]
  },
  {
   "cell_type": "code",
   "execution_count": 46,
   "id": "ef10780a-9049-42bf-bd49-21cebf38146b",
   "metadata": {},
   "outputs": [
    {
     "name": "stdout",
     "output_type": "stream",
     "text": [
      "No. of Continuous features: 5\n"
     ]
    }
   ],
   "source": [
    "cont_features= [feature for feature in num_features if feature not in discr_features]\n",
    "print('No. of Continuous features:', len(cont_features))"
   ]
  },
  {
   "cell_type": "code",
   "execution_count": 47,
   "id": "56c2a267-6e8d-4173-a532-96fae1c93895",
   "metadata": {},
   "outputs": [],
   "source": [
    "from sklearn.model_selection import train_test_split\n",
    "X = df.drop(['selling_price'], axis=1)\n",
    "y = df['selling_price']"
   ]
  },
  {
   "cell_type": "code",
   "execution_count": 48,
   "id": "872b6a8b-519b-4b1e-8023-9a3da8b1ad6c",
   "metadata": {},
   "outputs": [
    {
     "data": {
      "text/plain": [
       "120"
      ]
     },
     "execution_count": 48,
     "metadata": {},
     "output_type": "execute_result"
    }
   ],
   "source": [
    "# Feature Encoding and Scaling\n",
    "len(df['model'].unique())"
   ]
  },
  {
   "cell_type": "code",
   "execution_count": 49,
   "id": "175ea14f-a914-460c-a4f6-86550a535c0f",
   "metadata": {},
   "outputs": [],
   "source": [
    "from sklearn.preprocessing import LabelEncoder\n",
    "le = LabelEncoder() # assign labels based on no. of categories\n",
    "X['model']= le.fit_transform(X['model'])"
   ]
  },
  {
   "cell_type": "code",
   "execution_count": 50,
   "id": "a23ccbcf-6945-4b5e-bd37-3490f07bcd2c",
   "metadata": {},
   "outputs": [
    {
     "data": {
      "text/plain": [
       "0          7\n",
       "1         54\n",
       "2        118\n",
       "3          7\n",
       "4         38\n",
       "        ... \n",
       "19537    117\n",
       "19540     42\n",
       "19541     77\n",
       "19542    114\n",
       "19543     25\n",
       "Name: model, Length: 15411, dtype: int32"
      ]
     },
     "execution_count": 50,
     "metadata": {},
     "output_type": "execute_result"
    }
   ],
   "source": [
    "X['model']"
   ]
  },
  {
   "cell_type": "code",
   "execution_count": 51,
   "id": "e367d085-6087-4be0-ad69-3892795da2ee",
   "metadata": {},
   "outputs": [
    {
     "name": "stdout",
     "output_type": "stream",
     "text": [
      "Index(['model', 'vehicle_age', 'km_driven', 'mileage', 'engine', 'max_power',\n",
      "       'seats'],\n",
      "      dtype='object')\n",
      "['seller_type', 'fuel_type', 'transmission_type']\n"
     ]
    }
   ],
   "source": [
    "# Create column transformer with 3 types of transformers\n",
    "num_features = X.select_dtypes(exclude=\"object\").columns\n",
    "onehot_columns = ['seller_type', 'fuel_type','transmission_type']\n",
    "print(num_features)\n",
    "print(onehot_columns)\n"
   ]
  },
  {
   "cell_type": "code",
   "execution_count": 17,
   "id": "e1e844b0-d9b8-4c44-b034-092bbdab8c91",
   "metadata": {},
   "outputs": [],
   "source": [
    "from sklearn.preprocessing import StandardScaler, OneHotEncoder\n",
    "from sklearn.compose import ColumnTransformer\n",
    "\n",
    "numeric_transform = StandardScaler()\n",
    "oh_transform = OneHotEncoder(drop='first')"
   ]
  },
  {
   "cell_type": "code",
   "execution_count": 18,
   "id": "d7f86210-2f84-4d73-9422-5b5fad28aaa2",
   "metadata": {},
   "outputs": [],
   "source": [
    "preprocessor = ColumnTransformer(\n",
    "    [\n",
    "        (\"OneHotEncoder\", oh_transform, onehot_columns),\n",
    "        (\"StandardScaler\", numeric_transform, num_features)\n",
    "    ], remainder = 'passthrough'\n",
    ")"
   ]
  },
  {
   "cell_type": "code",
   "execution_count": 19,
   "id": "548f2d12-e1ac-4cf3-9de9-e3825b4694b8",
   "metadata": {},
   "outputs": [],
   "source": [
    "X=preprocessor.fit_transform(X)"
   ]
  },
  {
   "cell_type": "code",
   "execution_count": 20,
   "id": "d376e4f6-a364-48cb-9e8d-e2a5d1982091",
   "metadata": {},
   "outputs": [
    {
     "data": {
      "text/plain": [
       "((12328, 14), (3083, 14))"
      ]
     },
     "execution_count": 20,
     "metadata": {},
     "output_type": "execute_result"
    }
   ],
   "source": [
    "X_train, X_test, y_train, y_test = train_test_split(X,y, test_size=0.2, random_state=42)\n",
    "X_train.shape, X_test.shape"
   ]
  },
  {
   "cell_type": "code",
   "execution_count": 21,
   "id": "e4d28c0d-d780-449e-985e-ebc683d2fd41",
   "metadata": {},
   "outputs": [],
   "source": [
    "from sklearn.ensemble import RandomForestRegressor\n",
    "from sklearn.linear_model import LinearRegression, Ridge, Lasso\n",
    "from sklearn.neighbors import KNeighborsRegressor\n",
    "from sklearn.tree import DecisionTreeRegressor\n",
    "from sklearn.ensemble import AdaBoostRegressor\n",
    "from sklearn.metrics import r2_score, mean_absolute_error, mean_squared_error, accuracy_score, classification_report, ConfusionMatrixDisplay, precision_score, recall_score, f1_score,roc_auc_score\n",
    "# .ensemble : RandomForest, Adaboost. linear_model: LinearRegression, Ridge, Lasso.  tree: DecisionTree"
   ]
  },
  {
   "cell_type": "code",
   "execution_count": 22,
   "id": "11cf9d57-7df5-4352-ab80-03c5d93c8cf1",
   "metadata": {},
   "outputs": [],
   "source": [
    "def evaluate_model(true, predicted):\n",
    "    mae = mean_absolute_error(true, predicted)\n",
    "    mse = mean_squared_error(true, predicted)\n",
    "    rmse = np.sqrt(mean_squared_error(true, predicted))\n",
    "    r2_square = r2_score(true, predicted)\n",
    "    return mae, rmse, r2_square"
   ]
  },
  {
   "cell_type": "code",
   "execution_count": null,
   "id": "c1bcd227-d47a-4a33-8acc-270d32d269b9",
   "metadata": {},
   "outputs": [],
   "source": [
    "# from xgboost import XGBRegressor\n",
    "# \"Xgboost Regressor\": XGBRegressor()\n",
    "# xgboost_params = {\"learning_rate\":[0.1, 0.01], \"max_depth\": [5,8,12,20,30], \"n_estimators\": [100,200,300], \n",
    "# \"colsample_bytree\"\" [0.5,0.8,1,0.3, 0.4]}"
   ]
  },
  {
   "cell_type": "code",
   "execution_count": 23,
   "id": "a63d0540-3a17-4f22-9da5-875ad5164d55",
   "metadata": {},
   "outputs": [
    {
     "name": "stdout",
     "output_type": "stream",
     "text": [
      "Linear Regression\n",
      "Model performance for Training set\n",
      "- Root Mean Squared Error: 553855.6665\n",
      "- Mean Absolute Error: 268101.6071\n",
      "- R2 Score: 0.6218\n",
      "----------------------------------\n",
      "Model performance for Test set\n",
      "- Root Mean Squared Error: 502543.5930\n",
      "- Mean Absolute Error: 279618.5794\n",
      "- R2 Score: 0.6645\n",
      "Lasso\n",
      "Model performance for Training set\n",
      "- Root Mean Squared Error: 553855.6710\n",
      "- Mean Absolute Error: 268099.2226\n",
      "- R2 Score: 0.6218\n",
      "----------------------------------\n",
      "Model performance for Test set\n",
      "- Root Mean Squared Error: 502542.6696\n",
      "- Mean Absolute Error: 279614.7461\n",
      "- R2 Score: 0.6645\n",
      "Ridge\n",
      "Model performance for Training set\n",
      "- Root Mean Squared Error: 553856.3160\n",
      "- Mean Absolute Error: 268059.8015\n",
      "- R2 Score: 0.6218\n",
      "----------------------------------\n",
      "Model performance for Test set\n",
      "- Root Mean Squared Error: 502533.8230\n",
      "- Mean Absolute Error: 279557.2169\n",
      "- R2 Score: 0.6645\n",
      "Decision Tree\n",
      "Model performance for Training set\n",
      "- Root Mean Squared Error: 20797.2352\n",
      "- Mean Absolute Error: 5164.8199\n",
      "- R2 Score: 0.9995\n",
      "----------------------------------\n",
      "Model performance for Test set\n",
      "- Root Mean Squared Error: 313773.9936\n",
      "- Mean Absolute Error: 126342.7587\n",
      "- R2 Score: 0.8692\n",
      "K-Neighbor Regressor\n",
      "Model performance for Training set\n",
      "- Root Mean Squared Error: 325873.0088\n",
      "- Mean Absolute Error: 91425.4705\n",
      "- R2 Score: 0.8691\n",
      "----------------------------------\n",
      "Model performance for Test set\n",
      "- Root Mean Squared Error: 253024.3951\n",
      "- Mean Absolute Error: 112526.3461\n",
      "- R2 Score: 0.9150\n",
      "Random Forest\n",
      "Model performance for Training set\n",
      "- Root Mean Squared Error: 147056.9410\n",
      "- Mean Absolute Error: 39806.4580\n",
      "- R2 Score: 0.9733\n",
      "----------------------------------\n",
      "Model performance for Test set\n",
      "- Root Mean Squared Error: 231151.0404\n",
      "- Mean Absolute Error: 101884.7680\n",
      "- R2 Score: 0.9290\n",
      "Adaboost\n",
      "Model performance for Training set\n",
      "- Root Mean Squared Error: 464557.1306\n",
      "- Mean Absolute Error: 359296.6248\n",
      "- R2 Score: 0.7339\n",
      "----------------------------------\n",
      "Model performance for Test set\n",
      "- Root Mean Squared Error: 493673.2750\n",
      "- Mean Absolute Error: 375764.2468\n",
      "- R2 Score: 0.6762\n"
     ]
    }
   ],
   "source": [
    "models = {  \"Linear Regression\": LinearRegression(),\n",
    "            \"Lasso\": Lasso(),\n",
    "            \"Ridge\": Ridge(),\n",
    "            \"Decision Tree\": DecisionTreeRegressor(),\n",
    "            \"K-Neighbor Regressor\": KNeighborsRegressor(),\n",
    "            \"Random Forest\":RandomForestRegressor(),\n",
    "            \"Adaboost\": AdaBoostRegressor()\n",
    "         }\n",
    "for i in range(len(list(models))):\n",
    "    model= list(models.values())[i]\n",
    "    model.fit(X_train, y_train)\n",
    "    \n",
    "    y_train_pred = model.predict(X_train)\n",
    "    y_test_pred = model.predict(X_test)\n",
    "    \n",
    "    # Evaluate Train and Test dataset\n",
    "    model_train_mae , model_train_rmse, model_train_r2 = evaluate_model(y_train, y_train_pred)\n",
    "\n",
    "    model_test_mae , model_test_rmse, model_test_r2 = evaluate_model(y_test, y_test_pred)\n",
    "\n",
    "    \n",
    "    print(list(models.keys())[i])\n",
    "    \n",
    "    print('Model performance for Training set')\n",
    "    print(\"- Root Mean Squared Error: {:.4f}\".format(model_train_rmse))\n",
    "    print(\"- Mean Absolute Error: {:.4f}\".format(model_train_mae))\n",
    "    print(\"- R2 Score: {:.4f}\".format(model_train_r2))\n",
    "\n",
    "    print('----------------------------------')\n",
    "    \n",
    "    print('Model performance for Test set')\n",
    "    print(\"- Root Mean Squared Error: {:.4f}\".format(model_test_rmse))\n",
    "    print(\"- Mean Absolute Error: {:.4f}\".format(model_test_mae))\n",
    "    print(\"- R2 Score: {:.4f}\".format(model_test_r2))"
   ]
  },
  {
   "cell_type": "code",
   "execution_count": 25,
   "id": "c2384de4-cb38-4263-884f-7b784a5f3041",
   "metadata": {},
   "outputs": [],
   "source": [
    "# This shows that random forest and k nearest neighbor is the best\n",
    "#Initialize few parameter for Hyperparamter tuning\n",
    "knn_params = {\"n_neighbors\": [2, 3, 10, 20, 40, 50]}\n",
    "rf_params = {\"max_depth\": [5, 8, 15, None, 10],\n",
    "             \"max_features\": [5, 7, \"auto\", 8],\n",
    "             \"min_samples_split\": [2, 8, 15, 20],\n",
    "             \"n_estimators\": [100, 200, 500, 1000]}\n",
    "ada_params = {\"n_estimators\":[50, 70, 80, 100, 120], \"loss\":['linear','square','exponential']}\n"
   ]
  },
  {
   "cell_type": "code",
   "execution_count": 26,
   "id": "166df647-305a-4f58-849a-1eb2d829e9be",
   "metadata": {},
   "outputs": [],
   "source": [
    "# Models list for Hyperparameter tuning\n",
    "randomcv_models = [('KNN', KNeighborsRegressor(), knn_params),\n",
    "                   (\"RF\", RandomForestRegressor(), rf_params),\n",
    "                   (\"AdaBoost\", AdaBoostRegressor(), ada_params),\n",
    "                   ]"
   ]
  },
  {
   "cell_type": "code",
   "execution_count": 27,
   "id": "838acf90-83c7-4587-b8b8-b654b15c6d3d",
   "metadata": {},
   "outputs": [
    {
     "name": "stdout",
     "output_type": "stream",
     "text": [
      "Fitting 3 folds for each of 6 candidates, totalling 18 fits\n",
      "Fitting 3 folds for each of 100 candidates, totalling 300 fits\n",
      "Fitting 3 folds for each of 15 candidates, totalling 45 fits\n",
      "---------------- Best Params for KNN -------------------\n",
      "{'n_neighbors': 10}\n",
      "---------------- Best Params for RF -------------------\n",
      "{'n_estimators': 200, 'min_samples_split': 2, 'max_features': 5, 'max_depth': None}\n",
      "---------------- Best Params for AdaBoost -------------------\n",
      "{'n_estimators': 70, 'loss': 'linear'}\n"
     ]
    }
   ],
   "source": [
    "from sklearn.model_selection import RandomizedSearchCV\n",
    "\n",
    "model_param = {}\n",
    "for name, model, params in randomcv_models:\n",
    "    random = RandomizedSearchCV(estimator=model,\n",
    "                                   param_distributions=params,\n",
    "                                   n_iter=100,\n",
    "                                   cv=3,\n",
    "                                   verbose=2,\n",
    "                                   n_jobs=-1)\n",
    "    random.fit(X_train, y_train)\n",
    "    model_param[name] = random.best_params_\n",
    "\n",
    "for model_name in model_param:\n",
    "    print(f\"---------------- Best Params for {model_name} -------------------\")\n",
    "    print(model_param[model_name])"
   ]
  },
  {
   "cell_type": "code",
   "execution_count": 32,
   "id": "fe6b009c-f0da-4cc8-beb5-1b48c6bb9506",
   "metadata": {},
   "outputs": [
    {
     "name": "stdout",
     "output_type": "stream",
     "text": [
      "Random Forest\n",
      "Model performance for Training set\n",
      "- Root Mean Squared Error: 122234.9165\n",
      "- Mean Absolute Error: 39138.8149\n",
      "- R2 Score: 0.9816\n",
      "----------------------------------\n",
      "Model performance for Test set\n",
      "- Root Mean Squared Error: 208377.4786\n",
      "- Mean Absolute Error: 97503.6445\n",
      "- R2 Score: 0.9423\n",
      "KNN\n",
      "Model performance for Training set\n",
      "- Root Mean Squared Error: 363460.7706\n",
      "- Mean Absolute Error: 103472.0474\n",
      "- R2 Score: 0.8371\n",
      "----------------------------------\n",
      "Model performance for Test set\n",
      "- Root Mean Squared Error: 263888.0623\n",
      "- Mean Absolute Error: 117496.2131\n",
      "- R2 Score: 0.9075\n"
     ]
    }
   ],
   "source": [
    "models = { \"Random Forest\":RandomForestRegressor(n_estimators=200, min_samples_split=2, max_features=5, max_depth= None),\n",
    "          \"KNN\":KNeighborsRegressor(n_neighbors=10) \n",
    "         }\n",
    "for i in range(len(list(models))):\n",
    "    model= list(models.values())[i]\n",
    "    model.fit(X_train, y_train)\n",
    "\n",
    "    y_train_pred = model.predict(X_train)\n",
    "    y_test_pred = model.predict(X_test)\n",
    "\n",
    "    # Evaluate Train and Test dataset\n",
    "    model_train_mae , model_train_rmse, model_train_r2 = evaluate_model(y_train, y_train_pred)\n",
    "\n",
    "    model_test_mae , model_test_rmse, model_test_r2 = evaluate_model(y_test, y_test_pred)\n",
    "\n",
    "    \n",
    "    print(list(models.keys())[i])\n",
    "    \n",
    "    print('Model performance for Training set')\n",
    "    print(\"- Root Mean Squared Error: {:.4f}\".format(model_train_rmse))\n",
    "    print(\"- Mean Absolute Error: {:.4f}\".format(model_train_mae))\n",
    "    print(\"- R2 Score: {:.4f}\".format(model_train_r2))\n",
    "\n",
    "    print('----------------------------------')\n",
    "    \n",
    "    print('Model performance for Test set')\n",
    "    print(\"- Root Mean Squared Error: {:.4f}\".format(model_test_rmse))\n",
    "    print(\"- Mean Absolute Error: {:.4f}\".format(model_test_mae))\n",
    "    print(\"- R2 Score: {:.4f}\".format(model_test_r2))"
   ]
  },
  {
   "cell_type": "code",
   "execution_count": 79,
   "id": "0920372d-8a3d-478c-98fa-e92264ea4441",
   "metadata": {},
   "outputs": [],
   "source": [
    "new_car = {\"model\":'Alto',\n",
    "    \"vehicle_age\":2,\n",
    "    \"km_driven\":30000,\n",
    "    \"mileage\":19.0,\n",
    "    \"engine\":998,\n",
    "    \"max_power\":67,\n",
    "    \"seats\":5,\n",
    "    \"seller_type\":'Individual',\n",
    "    \"fuel_type\":'Petrol',\n",
    "    \"transmission_type\":'Automatic' \n",
    "}\n"
   ]
  },
  {
   "cell_type": "code",
   "execution_count": 80,
   "id": "bfbaf8e6-0986-4907-803b-2ee3196fc601",
   "metadata": {},
   "outputs": [],
   "source": [
    "new_car_df = pd.DataFrame([new_car])\n",
    "new_car_df[\"model\"] = le.transform(new_car_df[\"model\"])"
   ]
  },
  {
   "cell_type": "code",
   "execution_count": 81,
   "id": "c1ed3a22-561a-462b-9b43-2cbc60051bcd",
   "metadata": {},
   "outputs": [
    {
     "name": "stdout",
     "output_type": "stream",
     "text": [
      "Predicted Price: 704400.0\n"
     ]
    }
   ],
   "source": [
    "new_car_processed = preprocessor.transform(new_car_df)  # if you used ColumnTransformer\n",
    "\n",
    "# Predict price\n",
    "predicted_price = model.predict(new_car_processed)\n",
    "print(\"Predicted Price:\", predicted_price[0])"
   ]
  },
  {
   "cell_type": "code",
   "execution_count": null,
   "id": "8684ae83-f83b-44cc-8727-9ec47c2c1fdc",
   "metadata": {},
   "outputs": [],
   "source": []
  }
 ],
 "metadata": {
  "kernelspec": {
   "display_name": "Python 3 (ipykernel)",
   "language": "python",
   "name": "python3"
  },
  "language_info": {
   "codemirror_mode": {
    "name": "ipython",
    "version": 3
   },
   "file_extension": ".py",
   "mimetype": "text/x-python",
   "name": "python",
   "nbconvert_exporter": "python",
   "pygments_lexer": "ipython3",
   "version": "3.11.4"
  }
 },
 "nbformat": 4,
 "nbformat_minor": 5
}
